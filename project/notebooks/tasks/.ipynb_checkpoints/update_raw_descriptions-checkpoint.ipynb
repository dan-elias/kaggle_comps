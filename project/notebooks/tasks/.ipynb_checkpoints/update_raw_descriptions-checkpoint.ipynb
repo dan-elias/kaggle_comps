{
 "cells": [
  {
   "cell_type": "markdown",
   "id": "ddc2434e",
   "metadata": {},
   "source": [
    "# Update competition descriptions\n",
    "\n",
    "This notebook downloads descriptions for any previously unseen competitions"
   ]
  },
  {
   "cell_type": "code",
   "execution_count": 1,
   "id": "40894080",
   "metadata": {
    "tags": [
     "parameters"
    ]
   },
   "outputs": [],
   "source": [
    "# parameters\n",
    "\n",
    "comps_root = '~/dat/comps'\n",
    "flag_file = '~/dat/flags/dummy'"
   ]
  },
  {
   "cell_type": "code",
   "execution_count": 2,
   "id": "f7f51c9e",
   "metadata": {},
   "outputs": [
    {
     "name": "stdout",
     "output_type": "stream",
     "text": [
      "Warning: Your Kaggle API key is readable by other users on this system! To fix this, you can run 'chmod 600 /home/normaluser/.kaggle/kaggle.json'\n"
     ]
    }
   ],
   "source": [
    "import pathlib\n",
    "import json\n",
    "import datetime\n",
    "import inspect\n",
    "from itertools import count\n",
    "import kaggle\n",
    "import kaggle.models.kaggle_models_extended"
   ]
  },
  {
   "cell_type": "markdown",
   "id": "8427c9b3",
   "metadata": {},
   "source": [
    "## Paths"
   ]
  },
  {
   "cell_type": "code",
   "execution_count": 3,
   "id": "8655ff0e",
   "metadata": {},
   "outputs": [
    {
     "data": {
      "text/plain": [
       "{'comps_root': PosixPath('/home/normaluser/dat/comps'),\n",
       " 'flag_file': PosixPath('/home/normaluser/dat/flags/dummy')}"
      ]
     },
     "execution_count": 3,
     "metadata": {},
     "output_type": "execute_result"
    }
   ],
   "source": [
    "paths = {k: pathlib.Path(globals()[k]).expanduser() for k in ['comps_root', 'flag_file']}\n",
    "paths"
   ]
  },
  {
   "cell_type": "markdown",
   "id": "980061de",
   "metadata": {},
   "source": [
    "## Download and save"
   ]
  },
  {
   "cell_type": "code",
   "execution_count": 4,
   "id": "2a33c606",
   "metadata": {},
   "outputs": [],
   "source": [
    "class KaggleCompetitionJSONEncoder(json.JSONEncoder):\n",
    "    def default(self, obj):\n",
    "        if isinstance(obj, kaggle.models.kaggle_models_extended.Competition):\n",
    "            return dict(obj.__dict__)\n",
    "        if inspect.getmodule(obj) is kaggle.models.kaggle_models_extended:\n",
    "            return str(obj)\n",
    "        if any(isinstance(obj, kls) for kls in [datetime.datetime]):\n",
    "            return obj.isoformat()\n",
    "        print(type(obj))\n",
    "        return super().default(obj)"
   ]
  },
  {
   "cell_type": "code",
   "execution_count": 5,
   "id": "0f60713e",
   "metadata": {},
   "outputs": [
    {
     "name": "stdout",
     "output_type": "stream",
     "text": [
      "reading page 1\n",
      "gan-getting-started already saved - stopping\n"
     ]
    }
   ],
   "source": [
    "for page in count(start=1):\n",
    "    print(f'reading page {page}')\n",
    "    comps = kaggle.api.competitions_list(page=page)\n",
    "    for comp in comps:\n",
    "        dest_file = paths['comps_root']/f'{comp}/raw/description.json'\n",
    "        if dest_file.exists():\n",
    "            print(f'{comp} already saved - stopping')\n",
    "            comps = []\n",
    "            break\n",
    "        else:\n",
    "            dest_file.parent.mkdir(parents=True, exist_ok=True)\n",
    "            with dest_file.open('w') as out_stream:\n",
    "                json.dump(obj=comp, fp=out_stream, cls=KaggleCompetitionJSONEncoder)\n",
    "    if not comps:\n",
    "        break"
   ]
  },
  {
   "cell_type": "markdown",
   "id": "cf503525",
   "metadata": {},
   "source": [
    "## Touch flag file"
   ]
  },
  {
   "cell_type": "code",
   "execution_count": 6,
   "id": "56b15e17",
   "metadata": {},
   "outputs": [],
   "source": [
    "paths['flag_file'].parent.mkdir(parents=True, exist_ok=True)\n",
    "paths['flag_file'].touch()"
   ]
  },
  {
   "cell_type": "code",
   "execution_count": null,
   "id": "c88c4115",
   "metadata": {},
   "outputs": [],
   "source": []
  }
 ],
 "metadata": {
  "kernelspec": {
   "display_name": "Python 3",
   "language": "python",
   "name": "python3"
  },
  "language_info": {
   "codemirror_mode": {
    "name": "ipython",
    "version": 3
   },
   "file_extension": ".py",
   "mimetype": "text/x-python",
   "name": "python",
   "nbconvert_exporter": "python",
   "pygments_lexer": "ipython3",
   "version": "3.8.8"
  }
 },
 "nbformat": 4,
 "nbformat_minor": 5
}
