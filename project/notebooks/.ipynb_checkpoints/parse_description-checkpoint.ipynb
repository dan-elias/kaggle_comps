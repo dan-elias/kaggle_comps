{
 "cells": [
  {
   "cell_type": "markdown",
   "id": "ebcf6f22",
   "metadata": {},
   "source": [
    "# Parse competition description\n",
    "\n",
    "Extract and save JSON description parsed from competition HTML home page"
   ]
  },
  {
   "cell_type": "code",
   "execution_count": 1,
   "id": "c71d4cb1",
   "metadata": {
    "tags": [
     "parameters"
    ]
   },
   "outputs": [],
   "source": [
    "# parameters\n",
    "\n",
    "source = '~/dat/3136/raw/home.html'\n",
    "target = '~/dat/3136/interim/description.json'"
   ]
  },
  {
   "cell_type": "code",
   "execution_count": 2,
   "id": "59de2f9f",
   "metadata": {},
   "outputs": [],
   "source": [
    "from html.parser import HTMLParser\n",
    "import json\n",
    "import pathlib\n",
    "import re"
   ]
  },
  {
   "cell_type": "markdown",
   "id": "aac16ed4",
   "metadata": {},
   "source": [
    "## Paths"
   ]
  },
  {
   "cell_type": "code",
   "execution_count": 3,
   "id": "cadfe414",
   "metadata": {},
   "outputs": [],
   "source": [
    "paths = {k: pathlib.Path(globals()[k]).expanduser() for k in ['source', 'target']}"
   ]
  },
  {
   "cell_type": "markdown",
   "id": "3965a2ac",
   "metadata": {},
   "source": [
    "## Load"
   ]
  },
  {
   "cell_type": "code",
   "execution_count": 4,
   "id": "50ecdc79",
   "metadata": {},
   "outputs": [],
   "source": [
    "with paths['source'].open('r') as in_stream:\n",
    "    html_code = in_stream.read()"
   ]
  },
  {
   "cell_type": "markdown",
   "id": "3463307f",
   "metadata": {},
   "source": [
    "## Transform"
   ]
  },
  {
   "cell_type": "code",
   "execution_count": 6,
   "id": "7fcdb568",
   "metadata": {},
   "outputs": [],
   "source": [
    "class KagglePushedStateHTMLParser(HTMLParser):\n",
    "    \n",
    "    def __init__(self, *args, **kwargs):\n",
    "        super().__init__(*args, **kwargs)\n",
    "        self._in_script = False\n",
    "        self._scripts = []\n",
    "\n",
    "    def handle_starttag(self, tag, attrs):\n",
    "        self._in_script = (tag == 'script')\n",
    "\n",
    "    def handle_endtag(self, tag):\n",
    "        self._in_script = False\n",
    "\n",
    "    def handle_data(self, data):\n",
    "        if self._in_script:\n",
    "            self._scripts.append(data)\n",
    "    \n",
    "    def pushed_states(self):\n",
    "        pushed_state_rec = re.compile(r'Kaggle.State.push\\((?P<json_code>\\{.*\\})\\);')\n",
    "        for match in map(pushed_state_rec.search, self._scripts):\n",
    "            if match:\n",
    "                yield json.loads(match.groupdict()['json_code'])\n",
    "    \n",
    "    def longest_pushed_state(self):\n",
    "        sorted_states = sorted(self.pushed_states(), key=len)\n",
    "        if sorted_states:\n",
    "            return sorted_states[-1]\n",
    "            \n",
    "    \n",
    "parser = KagglePushedStateHTMLParser()\n",
    "parser.feed(html_code)\n",
    "result = parser.longest_pushed_state()"
   ]
  },
  {
   "cell_type": "markdown",
   "id": "9110b5f8",
   "metadata": {},
   "source": [
    "## Save"
   ]
  },
  {
   "cell_type": "code",
   "execution_count": null,
   "id": "62a0e62a",
   "metadata": {},
   "outputs": [],
   "source": [
    "if result:\n",
    "    paths['target'].parent.mkdir(parents=True, exist_ok=True)\n",
    "    with paths['target'].open('w') as out_stream:\n",
    "        json.dump(result, out_stream)"
   ]
  }
 ],
 "metadata": {
  "kernelspec": {
   "display_name": "Python 3",
   "language": "python",
   "name": "python3"
  },
  "language_info": {
   "codemirror_mode": {
    "name": "ipython",
    "version": 3
   },
   "file_extension": ".py",
   "mimetype": "text/x-python",
   "name": "python",
   "nbconvert_exporter": "python",
   "pygments_lexer": "ipython3",
   "version": "3.8.8"
  }
 },
 "nbformat": 4,
 "nbformat_minor": 5
}
